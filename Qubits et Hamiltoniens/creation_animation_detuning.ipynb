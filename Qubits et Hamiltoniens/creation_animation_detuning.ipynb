{
 "cells": [
  {
   "cell_type": "code",
   "execution_count": 1,
   "metadata": {},
   "outputs": [],
   "source": [
    "import numpy as np\n",
    "import qutip\n",
    "from qutip import basis, sigmax, sigmaz, Bloch\n",
    "import matplotlib as mpl\n",
    "from matplotlib import cm\n",
    "import imageio\n",
    "import os"
   ]
  },
  {
   "cell_type": "code",
   "execution_count": 2,
   "metadata": {},
   "outputs": [],
   "source": [
    "# Définition des detunings\n",
    "delta0 = 0\n",
    "delta1 = 1\n",
    "delta2 = 5\n",
    "\n",
    "# Définition du coupling strength\n",
    "g = 1 \n",
    "\n",
    "# Définition des Hamiltoniens\n",
    "H0 = -delta0/2 * qutip.sigmaz() - g/2 * qutip.sigmax()\n",
    "H1 = -delta1/2 * qutip.sigmaz() - g/2 * qutip.sigmax()\n",
    "H2 = -delta2/2 * qutip.sigmaz() - g/2 * qutip.sigmax()\n",
    "\n",
    "# Calcul des états propres/axes de rotations\n",
    "eigvals0, eigstates0 = H0.eigenstates()\n",
    "eigvals1, eigstates1 = H1.eigenstates()\n",
    "eigvals2, eigstates2 = H2.eigenstates()"
   ]
  },
  {
   "cell_type": "code",
   "execution_count": 3,
   "metadata": {},
   "outputs": [],
   "source": [
    "# --- Fonction d'animation sur la sphère de Bloch ---\n",
    "def animate_bloch(states, eigstates, gif_name='bloch_anim.gif', duration=0.1, save_all=False):\n",
    "    \"\"\"\n",
    "    Crée une animation GIF de l'évolution des états sur la sphère de Bloch.\n",
    "    \n",
    "    Paramètres:\n",
    "    -----------\n",
    "    states : list of qutip.Qobj\n",
    "        Liste des états à afficher sur la sphère de Bloch (par exemple, la trajectoire d'un état en rotation).\n",
    "    eigstates : list of qutip.Qobj\n",
    "        Liste des états propres de l'opérateur de rotation, représentant l'axe de rotation à afficher en arrière-plan.\n",
    "    gif_name : str, optionnel\n",
    "        Nom du fichier GIF à enregistrer. Par défaut, 'bloch_anim.gif'.\n",
    "    duration : float, optionnel\n",
    "        Durée (en secondes) d'affichage de chaque image dans l'animation.\n",
    "    save_all : bool, optionnel\n",
    "        Si True, sauvegarde toutes les images dans un dossier temporaire.\n",
    "    \n",
    "    Sauvegarde:\n",
    "    -----------\n",
    "    Un fichier GIF nommé selon le paramètre gif_name est créé dans le répertoire courant.\n",
    "    \"\"\"\n",
    "    b = Bloch()\n",
    "    b.vector_color = ['r']\n",
    "    #b.view = [-40, 30]\n",
    "    images = []\n",
    "    \n",
    "    try:\n",
    "        length = len(states)\n",
    "    except:\n",
    "        length = 1\n",
    "        states = [states]\n",
    "    \n",
    "    # Normalisation des couleurs\n",
    "    nrm = mpl.colors.Normalize(0, length)\n",
    "    colors = cm.cool(nrm(range(length)))\n",
    "    b.point_color = list(colors)\n",
    "    b.point_marker = ['o']\n",
    "    b.point_size = [30]\n",
    "    \n",
    "    # Créer un dossier temporaire si nécessaire\n",
    "    temp_dir = 'tmp_bloch'\n",
    "    if save_all:\n",
    "        if not os.path.exists(temp_dir):\n",
    "            os.makedirs(temp_dir)\n",
    "    \n",
    "    for i in range(length):\n",
    "        b.clear()  # Efface tous les états de la sphère\n",
    "        # Ajouter l'axe de rotation (les états propres de M)\n",
    "        b.add_states(eigstates)\n",
    "        # Ajouter l'état courant (pour visualiser l'évolution) \n",
    "        b.add_states([states[i]])\n",
    "        # Ajouter tous les états jusqu'à l'instant i en mode \"point\" pour tracer la trajectoire\n",
    "        b.add_states(states[:i+1], kind='point')\n",
    "        \n",
    "        if save_all:\n",
    "            filename = os.path.join(temp_dir, f\"bloch_{i:03d}.png\")\n",
    "        else:\n",
    "            filename = \"temp_bloch.png\"\n",
    "        b.save(filename)\n",
    "        images.append(imageio.imread(filename))\n",
    "    \n",
    "    imageio.mimsave(gif_name, images, duration=duration)\n",
    "    \n",
    "    # Nettoyage du dossier temporaire si nécessaire\n",
    "    if save_all:\n",
    "        for file in os.listdir(temp_dir):\n",
    "            os.remove(os.path.join(temp_dir, file))\n",
    "        os.rmdir(temp_dir)"
   ]
  },
  {
   "cell_type": "code",
   "execution_count": 4,
   "metadata": {},
   "outputs": [
    {
     "name": "stderr",
     "output_type": "stream",
     "text": [
      "/var/folders/0r/nnn8yqwd549bhsr3jqz9kqyh0000gn/T/ipykernel_62487/3535458171.py:61: DeprecationWarning: Starting with ImageIO v3 the behavior of this function will switch to that of iio.v3.imread. To keep the current behavior (and make this warning disappear) use `import imageio.v2 as imageio` or call `imageio.v2.imread` directly.\n",
      "  images.append(imageio.imread(filename))\n"
     ]
    }
   ],
   "source": [
    "# --- Génération des états avec l'Hamiltonien H0 donné ---\n",
    "\n",
    "# État initial \"up\" |0>\n",
    "up = qutip.basis(2, 0)\n",
    "\n",
    "# Liste pour stocker les états sur la sphère de Bloch\n",
    "bloch_states = []\n",
    "\n",
    "# Générer des états en faisant tourner |0> autour de M pour des angles allant de 0 à 2π\n",
    "for alpha in np.linspace(0.0, 4 * np.pi, 50):\n",
    "    # Calcul de l'opérateur de rotation: exp(-i * alpha * M / 2)\n",
    "    rotate_H0 = (-1j * alpha * H0 / 2).expm()\n",
    "    psi = rotate_H0 * up\n",
    "    bloch_states.append(psi)\n",
    "\n",
    "# --- Appel de la fonction d'animation ---\n",
    "# Vous pouvez spécifier un autre nom de fichier pour écraser la version précédente\n",
    "animate_bloch(bloch_states, eigstates0, gif_name='bloch_anim_res.gif', duration=0.1, save_all=False)\n"
   ]
  },
  {
   "cell_type": "code",
   "execution_count": 5,
   "metadata": {},
   "outputs": [
    {
     "name": "stderr",
     "output_type": "stream",
     "text": [
      "/var/folders/0r/nnn8yqwd549bhsr3jqz9kqyh0000gn/T/ipykernel_62487/3535458171.py:61: DeprecationWarning: Starting with ImageIO v3 the behavior of this function will switch to that of iio.v3.imread. To keep the current behavior (and make this warning disappear) use `import imageio.v2 as imageio` or call `imageio.v2.imread` directly.\n",
      "  images.append(imageio.imread(filename))\n"
     ]
    }
   ],
   "source": [
    "# --- Génération des états avec l'Hamiltonien H0 donné ---\n",
    "\n",
    "# État initial \"up\" |0>\n",
    "up = qutip.basis(2, 0)\n",
    "\n",
    "# Liste pour stocker les états sur la sphère de Bloch\n",
    "bloch_states = []\n",
    "\n",
    "# Générer des états en faisant tourner |0> autour de M pour des angles allant de 0 à 2π\n",
    "for alpha in np.linspace(0.0, 4 * np.pi, 50):\n",
    "    # Calcul de l'opérateur de rotation: exp(-i * alpha * M / 2)\n",
    "    rotate_H1 = (-1j * alpha * H1 / 2).expm()\n",
    "    psi = rotate_H1 * up\n",
    "    bloch_states.append(psi)\n",
    "\n",
    "# --- Appel de la fonction d'animation ---\n",
    "# Vous pouvez spécifier un autre nom de fichier pour écraser la version précédente\n",
    "animate_bloch(bloch_states, eigstates1, gif_name='bloch_anim_slightly_off_res.gif', duration=0.1, save_all=False)"
   ]
  },
  {
   "cell_type": "code",
   "execution_count": 6,
   "metadata": {},
   "outputs": [
    {
     "name": "stderr",
     "output_type": "stream",
     "text": [
      "/var/folders/0r/nnn8yqwd549bhsr3jqz9kqyh0000gn/T/ipykernel_62487/3535458171.py:61: DeprecationWarning: Starting with ImageIO v3 the behavior of this function will switch to that of iio.v3.imread. To keep the current behavior (and make this warning disappear) use `import imageio.v2 as imageio` or call `imageio.v2.imread` directly.\n",
      "  images.append(imageio.imread(filename))\n"
     ]
    }
   ],
   "source": [
    "# --- Génération des états avec l'Hamiltonien H0 donné ---\n",
    "\n",
    "# État initial \"up\" |0>\n",
    "up = qutip.basis(2, 0)\n",
    "\n",
    "# Liste pour stocker les états sur la sphère de Bloch\n",
    "bloch_states = []\n",
    "\n",
    "# Générer des états en faisant tourner |0> autour de M pour des angles allant de 0 à 2π\n",
    "for alpha in np.linspace(0.0, 4 * np.pi, 50):\n",
    "    # Calcul de l'opérateur de rotation: exp(-i * alpha * M / 2)\n",
    "    rotate_H2 = (-1j * alpha * H2 / 2).expm()\n",
    "    psi = rotate_H2 * up\n",
    "    bloch_states.append(psi)\n",
    "\n",
    "# --- Appel de la fonction d'animation ---\n",
    "# Vous pouvez spécifier un autre nom de fichier pour écraser la version précédente\n",
    "animate_bloch(bloch_states, eigstates2, gif_name='bloch_anim_off_res.gif', duration=0.1, save_all=False)"
   ]
  },
  {
   "cell_type": "code",
   "execution_count": null,
   "metadata": {},
   "outputs": [],
   "source": []
  }
 ],
 "metadata": {
  "kernelspec": {
   "display_name": "Python 3",
   "language": "python",
   "name": "python3"
  },
  "language_info": {
   "codemirror_mode": {
    "name": "ipython",
    "version": 3
   },
   "file_extension": ".py",
   "mimetype": "text/x-python",
   "name": "python",
   "nbconvert_exporter": "python",
   "pygments_lexer": "ipython3",
   "version": "3.11.2"
  }
 },
 "nbformat": 4,
 "nbformat_minor": 2
}
